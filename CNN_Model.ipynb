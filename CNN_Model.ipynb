{
 "cells": [
  {
   "cell_type": "markdown",
   "id": "0174f3e7-f97b-47ec-a991-74e9b9c252f3",
   "metadata": {},
   "source": [
    "# Vehicle Detection using CNN"
   ]
  },
  {
   "cell_type": "markdown",
   "id": "d51f0559-01c4-493c-8bce-be6352cc1fd6",
   "metadata": {},
   "source": [
    "## Import the Libraries"
   ]
  },
  {
   "cell_type": "code",
   "execution_count": 1,
   "id": "1291312b-7a47-4394-b4f1-a7f9b5e38b07",
   "metadata": {},
   "outputs": [],
   "source": [
    "import os\n",
    "import numpy as np\n",
    "import matplotlib.pyplot as plt\n",
    "from tensorflow.keras.preprocessing.image import ImageDataGenerator\n",
    "from tensorflow.keras.models import Sequential\n",
    "from tensorflow.keras.layers import Conv2D, MaxPooling2D, Flatten, Dense, Dropout\n",
    "from sklearn.metrics import classification_report, confusion_matrix\n"
   ]
  },
  {
   "cell_type": "markdown",
   "id": "f5518442-1df9-40eb-9ab4-dd86493309d6",
   "metadata": {},
   "source": [
    "## Preprocess the Images"
   ]
  },
  {
   "cell_type": "code",
   "execution_count": 2,
   "id": "2eb03c12-6c87-4468-a26c-8c121c25adcc",
   "metadata": {},
   "outputs": [
    {
     "name": "stdout",
     "output_type": "stream",
     "text": [
      "Found 14209 images belonging to 2 classes.\n",
      "Found 3551 images belonging to 2 classes.\n"
     ]
    }
   ],
   "source": [
    "train_datagen = ImageDataGenerator(rescale=1./255, validation_split=0.2)\n",
    "\n",
    "train_generator = train_datagen.flow_from_directory(\n",
    "    'data/',\n",
    "    target_size=(64, 64),\n",
    "    batch_size=32,\n",
    "    class_mode='binary',\n",
    "    subset='training'\n",
    ")\n",
    "\n",
    "val_generator = train_datagen.flow_from_directory(\n",
    "    'data/',\n",
    "    target_size=(64, 64),\n",
    "    batch_size=32,\n",
    "    class_mode='binary',\n",
    "    subset='validation'\n",
    ")\n"
   ]
  },
  {
   "cell_type": "markdown",
   "id": "0ae2afc8-aacb-4b87-af93-96586cfc4140",
   "metadata": {},
   "source": [
    "## Create the CNN Model"
   ]
  },
  {
   "cell_type": "code",
   "execution_count": null,
   "id": "cebd7a10-2533-406e-8446-fbd139ea4783",
   "metadata": {},
   "outputs": [],
   "source": []
  }
 ],
 "metadata": {
  "kernelspec": {
   "display_name": "Python 3 (ipykernel)",
   "language": "python",
   "name": "python3"
  },
  "language_info": {
   "codemirror_mode": {
    "name": "ipython",
    "version": 3
   },
   "file_extension": ".py",
   "mimetype": "text/x-python",
   "name": "python",
   "nbconvert_exporter": "python",
   "pygments_lexer": "ipython3",
   "version": "3.12.3"
  }
 },
 "nbformat": 4,
 "nbformat_minor": 5
}
